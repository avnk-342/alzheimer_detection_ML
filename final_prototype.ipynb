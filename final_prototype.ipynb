{
 "cells": [
  {
   "cell_type": "code",
   "execution_count": null,
   "id": "fd5fc463",
   "metadata": {},
   "outputs": [],
   "source": [
    "import tensorflow as tf\n",
    "from tensorflow.keras import models, datasets, layers\n",
    "# import matplotlib.pyplot as plt\n",
    "import numpy as np\n",
    "from keras.layers import Dropout\n",
    "# import splitfolders\n",
    "import keras\n",
    "import pickle"
   ]
  },
  {
   "cell_type": "code",
   "execution_count": 2,
   "id": "478ae34e",
   "metadata": {},
   "outputs": [],
   "source": [
    "# splitfolders.ratio(\"Alzheimer_Dataset\", output=\"output\",seed=1345,ratio=(0.8,0.1,0.1))"
   ]
  },
  {
   "cell_type": "code",
   "execution_count": null,
   "id": "17f1fb46",
   "metadata": {},
   "outputs": [],
   "source": [
    "\n",
    "\n",
    "\n",
    "train_set = keras.utils.image_dataset_from_directory(\n",
    "    \"./output/train\",\n",
    "    seed = 123,\n",
    "    batch_size = 32,\n",
    "    image_size = (128,128)\n",
    ")\n",
    "\n",
    "\n",
    "test_set = keras.utils.image_dataset_from_directory(\n",
    "    \"./output/test\",\n",
    "    seed = 123,\n",
    "    batch_size = 32,\n",
    "    image_size = (128,128)\n",
    ")\n",
    "\n",
    "val_set = keras.utils.image_dataset_from_directory(\n",
    "    \"./output/train\",\n",
    "    seed = 123,\n",
    "    batch_size = 32,\n",
    "    image_size = (128,128)\n",
    ")\n"
   ]
  },
  {
   "cell_type": "code",
   "execution_count": 4,
   "id": "078666c6",
   "metadata": {},
   "outputs": [],
   "source": [
    "# class_names = train_set.class_names\n",
    "\n",
    "# plt.figure(figsize=(10, 10))\n",
    "# for images, labels in train_set.take(1):\n",
    "#     for i in range(9):\n",
    "#         ax = plt.subplot(3, 3, i + 1)\n",
    "#         plt.imshow(images[i].numpy().astype(\"uint8\"))\n",
    "#         plt.title(class_names[labels[i]])\n",
    "#         plt.axis(\"off\")\n",
    "\n"
   ]
  },
  {
   "cell_type": "code",
   "execution_count": null,
   "id": "bf4e633a",
   "metadata": {},
   "outputs": [],
   "source": [
    "cnn = tf.keras.models.Sequential()\n",
    "\n",
    "cnn.add(keras.layers.Rescaling(scale=1./255, offset=-1, input_shape=(128,128, 3)))\n",
    "\n",
    "cnn.add(tf.keras.layers.Conv2D(filters = 16, kernel_size = 3, activation = \"relu\",padding='same',kernel_initializer=\"he_normal\"))\n",
    "cnn.add(tf.keras.layers.MaxPool2D((2,2)))\n",
    "\n",
    "cnn.add(tf.keras.layers.Conv2D(filters = 32, kernel_size = 3, activation = \"relu\",padding='same',kernel_initializer=\"he_normal\"))\n",
    "cnn.add(tf.keras.layers.MaxPool2D((2,2)))\n",
    "\n",
    "cnn.add(keras.layers.Dropout(0.20))\n",
    "\n",
    "cnn.add(tf.keras.layers.Conv2D(filters = 64, kernel_size = 3, activation = \"relu\",padding='same',kernel_initializer=\"he_normal\"))\n",
    "cnn.add(tf.keras.layers.MaxPool2D((2,2)))\n",
    "\n",
    "cnn.add(keras.layers.Dropout(0.25))\n",
    "cnn.add(tf.keras.layers.Flatten())\n",
    "\n",
    "cnn.add(tf.keras.layers.Dense(units = 128, activation = 'relu',kernel_initializer=\"he_normal\"))\n",
    "cnn.add(tf.keras.layers.Dense(units = 64, activation = 'relu'))\n",
    "cnn.add(tf.keras.layers.Dense(units = 4, activation = 'softmax'))\n",
    "\n"
   ]
  },
  {
   "cell_type": "code",
   "execution_count": 9,
   "id": "ca23c523",
   "metadata": {},
   "outputs": [],
   "source": [
    "# cnn.summary()"
   ]
  },
  {
   "cell_type": "code",
   "execution_count": null,
   "id": "1409a096",
   "metadata": {},
   "outputs": [],
   "source": [
    "cnn.compile(optimizer = 'adam', loss = 'sparse_categorical_crossentropy', metrics = ['accuracy'])\n",
    "\n",
    "history = cnn.fit(train_set, validation_data = val_set, epochs = 25,batch_size=32,verbose=1 )"
   ]
  },
  {
   "cell_type": "code",
   "execution_count": 5,
   "id": "4bf51297",
   "metadata": {},
   "outputs": [],
   "source": [
    "cnn.save(\"model.keras\")"
   ]
  },
  {
   "cell_type": "code",
   "execution_count": null,
   "id": "2daa102c",
   "metadata": {},
   "outputs": [],
   "source": [
    "# plt.plot(history.history['accuracy'],color='red',label='train accuracy')\n",
    "# plt.plot(history.history['val_accuracy'], color = 'blue', label='validation accuracy')\n",
    "# plt.legend()\n",
    "# plt.show()"
   ]
  },
  {
   "cell_type": "code",
   "execution_count": null,
   "id": "a10e2b55",
   "metadata": {},
   "outputs": [],
   "source": [
    "# plt.plot(history.history['loss'],color='red',label='train loss')\n",
    "# plt.plot(history.history['val_loss'], color = 'blue', label='validation loss')\n",
    "# plt.legend()\n",
    "# plt.show()"
   ]
  },
  {
   "cell_type": "code",
   "execution_count": 9,
   "id": "426c1548",
   "metadata": {},
   "outputs": [],
   "source": [
    "# cnn.save('model.save')"
   ]
  },
  {
   "cell_type": "code",
   "execution_count": null,
   "id": "550f206d",
   "metadata": {},
   "outputs": [],
   "source": [
    "# loss, accuracy = cnn.evaluate(test_set)"
   ]
  },
  {
   "cell_type": "code",
   "execution_count": null,
   "id": "52191528",
   "metadata": {},
   "outputs": [],
   "source": [
    "# from keras.preprocessing.image import load_img, img_to_array\n",
    "# img = load_img('./Alzheimer_Dataset/NonDemented/30 (12).jpg', target_size=(128, 128))\n",
    "# img = img_to_array(img)\n",
    "# img = np.expand_dims(img, axis = 0)\n",
    "\n",
    "\n",
    "# prediction = cnn.predict(img)\n",
    "# y_classes = prediction.argmax(axis=-1)\n",
    "# print(y_classes)\n",
    "# class_names\n"
   ]
  }
 ],
 "metadata": {
  "kernelspec": {
   "display_name": ".venv (3.13.7)",
   "language": "python",
   "name": "python3"
  },
  "language_info": {
   "codemirror_mode": {
    "name": "ipython",
    "version": 3
   },
   "file_extension": ".py",
   "mimetype": "text/x-python",
   "name": "python",
   "nbconvert_exporter": "python",
   "pygments_lexer": "ipython3",
   "version": "3.13.7"
  }
 },
 "nbformat": 4,
 "nbformat_minor": 5
}
